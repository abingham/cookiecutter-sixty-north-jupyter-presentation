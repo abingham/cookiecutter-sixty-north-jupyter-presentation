{
 "cells": [
  {
   "cell_type": "code",
   "execution_count": 3,
   "metadata": {
    "collapsed": false,
    "deletable": true,
    "editable": true,
    "slideshow": {
     "slide_type": "skip"
    }
   },
   "outputs": [
    {
     "data": {
      "text/html": [
       "<link rel=\"stylesheet\" type=\"text/css\" href=\"theme/sixty_north.css\">"
      ],
      "text/plain": [
       "<IPython.core.display.HTML object>"
      ]
     },
     "metadata": {},
     "output_type": "display_data"
    }
   ],
   "source": [
    "%%html\n",
    "<link rel=\"stylesheet\" type=\"text/css\" href=\"theme/sixty_north.css\">"
   ]
  },
  {
   "cell_type": "markdown",
   "metadata": {
    "deletable": true,
    "editable": true,
    "slideshow": {
     "slide_type": "slide"
    }
   },
   "source": [
    "# {{cookiecutter.title}}\n",
    "## {{cookiecutter.subtitle}}\n",
    "\n",
    "----\n",
    "\n",
    "**{{cookiecutter.author}}**<br>\n",
    "*twitter:* @{{cookiecutter.twitter_handle}}<br>\n",
    "*email:* {{cookiecutter.email_address}}\n",
    "\n",
    "----\n",
    "\n",
    "![Sixty North logo](theme/sixty-north-logo.small.png)"
   ]
  },
  {
   "cell_type": "markdown",
   "metadata": {
    "deletable": true,
    "editable": true,
    "slideshow": {
     "slide_type": "slide"
    }
   },
   "source": [
    "# Thanks!\n",
    "\n",
    "----\n",
    "\n",
    " - Presentation: [{{cookiecutter.url}}]({{cookiecutter.url}})\n",
    " - Training and consulting: [sixty-north.com](http://sixty-north.com/)\n",
    " \n",
    " ----\n",
    " \n",
    "![Sixty North logo](theme/sixty-north-logo.small.png)"
   ]
  }
 ],
 "metadata": {
  "celltoolbar": "Slideshow",
  "kernelspec": {
   "display_name": "Python 3",
   "language": "python",
   "name": "python3"
  },
  "language_info": {
   "codemirror_mode": {
    "name": "ipython",
    "version": 3
   },
   "file_extension": ".py",
   "mimetype": "text/x-python",
   "name": "python",
   "nbconvert_exporter": "python",
   "pygments_lexer": "ipython3",
   "version": "3.6.0"
  }
 },
 "nbformat": 4,
 "nbformat_minor": 2
}
